# Import findspark and initialize. 
import findspark
findspark.init()


# Import packages
from pyspark.sql import SparkSession
import time

# Create a SparkSession
spark = SparkSession.builder.appName("SparkSQL").getOrCreate()


# 1. Read in the AWS S3 bucket into a DataFrame.
from pyspark import SparkFiles
url = "https://2u-data-curriculum-team.s3.amazonaws.com/dataviz-classroom/v1.2/22-big-data/home_sales_revised.csv"
spark.sparkContext.addFile(url)
home_sales_df = spark.read.csv(SparkFiles.get("home_sales_revised.csv"), sep=",", header=True)



# 2. Create a temporary view of the DataFrame.
home_sales_df.createOrReplaceTempView("home_sales")



spark.sql("""
SELECT * FROM home_sales
""").show()


# 3. What is the average price for a four bedroom house sold in each year rounded to two decimal places?
spark.sql("""
SELECT year(to_date(date,'yyyy-mm-dd')) AS Year, ROUND(AVG(price),2) AS Average_Price 
FROM home_sales
WHERE bedrooms=4
GROUP BY Year
ORDER BY Year
""").show()



# 4. What is the average price of a home for each year the home was built that have 3 bedrooms and 3 bathrooms rounded to two decimal places?
spark.sql("""
SELECT date_built AS Year, ROUND(AVG(price),2) AS Average_Price 
FROM home_sales
WHERE bedrooms=3 AND bathrooms=3
GROUP BY date_built
ORDER BY date_built
""").show()



#  5. What is the average price of a home for each year built that have 3 bedrooms, 3 bathrooms, with two floors,
# and are greater than or equal to 2,000 square feet rounded to two decimal places?
spark.sql("""
SELECT date_built AS Year, ROUND(AVG(price),2) AS Average_Price 
FROM home_sales
WHERE bedrooms=3 AND bathrooms=3 AND floors=2 AND sqft_living>=2000
GROUP BY date_built
ORDER BY date_built
""").show()



# 6. What is the "view" rating for the average price of a home, rounded to two decimal places, where the homes are greater than
# or equal to $350,000? Although this is a small dataset, determine the run time for this query.

start_time = time.time()

spark.sql("""
SELECT view AS View_Rating, ROUND(AVG(price),2) AS Average_Price
FROM home_sales
WHERE price>=350000
GROUP BY View_Rating
ORDER BY View_Rating 
""").show()


print("--- %s seconds ---" % (time.time() - start_time))


# 7. Cache the the temporary table home_sales.
spark.sql("cache table home_sales")


# 8. Check if the table is cached.
spark.catalog.isCached('home_sales')


# 9. Using the cached data, run the query that filters out the view ratings with average price 
#  greater than or equal to $350,000. Determine the runtime and compare it to uncached runtime.

start_time = time.time()

spark.sql("""
SELECT view AS View_Rating, ROUND(AVG(price),2) AS Average_Price
FROM home_sales
GROUP BY View_Rating
HAVING Average_Price>=350000
ORDER BY View_Rating
""").show()

print("--- %s seconds ---" % (time.time() - start_time))



# 10. Partition by the "date_built" field on the formatted parquet home sales data 
home_sales_df.write.parquet("parquet_home_sales", partitionBy="date_built", mode="overwrite")


# 11. Read the formatted parquet data.
p_home_sales_df = spark.read.parquet("parquet_home_sales")


# 12. Create a temporary table for the parquet data.
p_home_sales_df.createOrReplaceTempView("p_home_sales")


# 13. Run the query that filters out the view ratings with average price of greater than or eqaul to $350,000 
# with the parquet DataFrame. Round your average to two decimal places. 
# Determine the runtime and compare it to the cached version. 

start_time = time.time()

spark.sql("""
SELECT view AS View_Rating, ROUND(AVG(price),2) AS Average_Price
FROM p_home_sales
GROUP BY View_Rating
HAVING Average_Price>=350000
ORDER BY View_Rating 
""").show()

print("--- %s seconds ---" % (time.time() - start_time))


# 14. Uncache the home_sales temporary table.
spark.sql("uncache table home_sales")


# 15. Check if the home_sales is no longer cached
spark.catalog.isCached("home_sales")




